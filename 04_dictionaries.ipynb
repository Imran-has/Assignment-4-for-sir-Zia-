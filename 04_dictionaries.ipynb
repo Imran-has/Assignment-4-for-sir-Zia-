{
  "nbformat": 4,
  "nbformat_minor": 0,
  "metadata": {
    "colab": {
      "provenance": [],
      "authorship_tag": "ABX9TyMxTeCeG+z0jaVW7FMzSAQ9",
      "include_colab_link": true
    },
    "kernelspec": {
      "name": "python3",
      "display_name": "Python 3"
    },
    "language_info": {
      "name": "python"
    }
  },
  "cells": [
    {
      "cell_type": "markdown",
      "metadata": {
        "id": "view-in-github",
        "colab_type": "text"
      },
      "source": [
        "<a href=\"https://colab.research.google.com/github/Imran-has/Assignment-4-for-sir-Zia-/blob/main/04_dictionaries.ipynb\" target=\"_parent\"><img src=\"https://colab.research.google.com/assets/colab-badge.svg\" alt=\"Open In Colab\"/></a>"
      ]
    },
    {
      "cell_type": "code",
      "execution_count": null,
      "metadata": {
        "colab": {
          "base_uri": "https://localhost:8080/"
        },
        "id": "Fs7bQKtkmzGJ",
        "outputId": "c64bb0b1-1291-4171-a3c0-5963003131af"
      },
      "outputs": [
        {
          "name": "stdout",
          "output_type": "stream",
          "text": [
            "Enter a number: 1\n",
            "Enter a number: 2\n",
            "Enter a number: 3\n",
            "Enter a number: 5\n",
            "Enter a number: 7\n",
            "Enter a number: 8\n",
            "Enter a number: 9\n",
            "Enter a number: 1\n"
          ]
        }
      ],
      "source": [
        "#00_count_nums\n",
        "def get_user_numbers():\n",
        "    \"\"\"\n",
        "    Create an empty list.\n",
        "    Ask the user to input numbers and store them in a list.\n",
        "    Once they enter a blank line, break out of the loop and return the list.\n",
        "    \"\"\"\n",
        "    user_numbers = []\n",
        "    while True:\n",
        "        user_input = input(\"Enter a number: \")\n",
        "\n",
        "        # If the user enters a blank line, break out of the loop and stop asking for input\n",
        "        if user_input == \"\":\n",
        "            break\n",
        "\n",
        "        # convert the user input to an integer and add it to the list\n",
        "        num = int(user_input)\n",
        "        user_numbers.append(num)\n",
        "\n",
        "    return user_numbers\n",
        "\n",
        "def count_nums(num_lst):\n",
        "    \"\"\"\n",
        "    Create an empty dictionary.\n",
        "    Loop over the list of numbers.\n",
        "    If the number is not in the dictionary, add it as a key with a value of 1.\n",
        "    If the number is in the dictionary, increment its value by 1.\n",
        "    \"\"\"\n",
        "    num_dict = {}\n",
        "    for num in num_lst:\n",
        "        if num not in num_dict:\n",
        "            num_dict[num] = 1\n",
        "        else:\n",
        "            num_dict[num] += 1\n",
        "\n",
        "    return num_dict\n",
        "\n",
        "\n",
        "def print_counts(num_dict):\n",
        "    \"\"\"\n",
        "    Loop over the dictionary and print out each key and its value.\n",
        "    \"\"\"\n",
        "    for num in num_dict:\n",
        "        print(str(num) + \" appears \" + str(num_dict[num]) + \" times.\")\n",
        "\n",
        "\n",
        "def main():\n",
        "    \"\"\"\n",
        "    Ask the user to input numbers and store them in a list. Once they enter a blank line,\n",
        "    print out the number of times each number appeared in the list.\n",
        "    \"\"\"\n",
        "    user_numbers = get_user_numbers()\n",
        "    num_dict = count_nums(user_numbers)\n",
        "    print_counts(num_dict)\n",
        "\n",
        "\n",
        "# Python boilerplate.\n",
        "if __name__ == '__main__':\n",
        "    main()\n"
      ]
    },
    {
      "cell_type": "code",
      "source": [
        "#02_pop_up_shop\n",
        "def main():\n",
        "    fruits = {'apple': 1.5, 'durian': 50, 'jackfruit': 80, 'kiwi': 1, 'rambutan': 1.5, 'mango': 5}\n",
        "\n",
        "    total_cost = 0\n",
        "    for fruit_name in fruits:\n",
        "        price = fruits[fruit_name]\n",
        "        amount_bought = int(input(\"How many (\" + fruit_name + \") do you want to buy?: \"))\n",
        "        total_cost += (price * amount_bought)\n",
        "\n",
        "    print(\"Your total is $\" + str(total_cost))\n",
        "\n",
        "\n",
        "# There is no need to edit code beyond this point\n",
        "\n",
        "if __name__ == '__main__':\n",
        "    main()"
      ],
      "metadata": {
        "colab": {
          "base_uri": "https://localhost:8080/"
        },
        "id": "8BZGLVsqOZtk",
        "outputId": "224fa660-3216-40fc-e3ae-4e6176994534"
      },
      "execution_count": 2,
      "outputs": [
        {
          "output_type": "stream",
          "name": "stdout",
          "text": [
            "How many (apple) do you want to buy?: 1\n",
            "How many (durian) do you want to buy?: 0\n",
            "How many (jackfruit) do you want to buy?: 1\n",
            "How many (kiwi) do you want to buy?: 2\n",
            "How many (rambutan) do you want to buy?: 2\n",
            "How many (mango) do you want to buy?: 1\n",
            "Your total is $91.5\n"
          ]
        }
      ]
    },
    {
      "cell_type": "code",
      "source": [
        "#03_powerful_passwords\n",
        "from hashlib import sha256\n",
        "\n",
        "def login(email, stored_logins, password_to_check):\n",
        "    \"\"\"\n",
        "    Returns True if the hash of the password we are checking matches the one in stored_logins\n",
        "    for a specific email. Otherwise, returns False.\n",
        "\n",
        "    email: the email we are checking the password for\n",
        "    stored_logins: a dictionary pointing from an email to its hashed password\n",
        "    password_to_check: a password we want to test alongside the email to login with\n",
        "    \"\"\"\n",
        "\n",
        "    if stored_logins[email] == hash_password(password_to_check):\n",
        "        return True\n",
        "\n",
        "    return False\n",
        "\n",
        "# There is no need to edit code beyond this point\n",
        "\n",
        "def hash_password(password):\n",
        "    \"\"\"\n",
        "    Takes in a password and returns the SHA256 hashed value for that specific password.\n",
        "\n",
        "    Inputs:\n",
        "        password: the password we want\n",
        "\n",
        "    Outputs:\n",
        "        the hashed form of the input password\n",
        "    \"\"\"\n",
        "\n",
        "    return sha256(password.encode()).hexdigest()\n",
        "\n",
        "def main():\n",
        "    # stored_logins is a dictionary with emails as keys and hashed passwords as values\n",
        "    stored_logins = {\n",
        "        \"example@gmail.com\": \"5e884898da28047151d0e56f8dc6292773603d0d6aabbdd62a11ef721d1542d8\",\n",
        "        \"code_in_placer@cip.org\": \"973607a4ae7b4cf7d96a100b0fb07e8519cc4f70441d41214a9f811577bb06cc\",\n",
        "        \"student@stanford.edu\": \"882c6df720fd99f5eebb1581a1cf975625cea8a160283011c0b9512bb56c95fb\"\n",
        "    }\n",
        "\n",
        "    print(login(\"example@gmail.com\", stored_logins, \"word\"))\n",
        "    print(login(\"example@gmail.com\", stored_logins, \"password\"))\n",
        "\n",
        "    print(login(\"code_in_placer@cip.org\", stored_logins, \"Karel\"))\n",
        "    print(login(\"code_in_placer@cip.org\", stored_logins, \"karel\"))\n",
        "\n",
        "    print(login(\"student@stanford.edu\", stored_logins, \"password\"))\n",
        "    print(login(\"student@stanford.edu\", stored_logins, \"123!456?789\"))\n",
        "\n",
        "\n",
        "if __name__ == '__main__':\n",
        "    main()"
      ],
      "metadata": {
        "colab": {
          "base_uri": "https://localhost:8080/"
        },
        "id": "ZO1DbEaxPmF6",
        "outputId": "a95c9827-7af6-4c27-ba22-635e8620950c"
      },
      "execution_count": 4,
      "outputs": [
        {
          "output_type": "stream",
          "name": "stdout",
          "text": [
            "False\n",
            "True\n",
            "False\n",
            "True\n",
            "False\n",
            "True\n"
          ]
        }
      ]
    }
  ]
}