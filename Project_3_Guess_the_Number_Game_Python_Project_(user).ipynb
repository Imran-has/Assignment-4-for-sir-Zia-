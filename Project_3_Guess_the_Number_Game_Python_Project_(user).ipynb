{
  "nbformat": 4,
  "nbformat_minor": 0,
  "metadata": {
    "colab": {
      "provenance": [],
      "authorship_tag": "ABX9TyNdv5/IWLS9yXHONI44ndTD",
      "include_colab_link": true
    },
    "kernelspec": {
      "name": "python3",
      "display_name": "Python 3"
    },
    "language_info": {
      "name": "python"
    }
  },
  "cells": [
    {
      "cell_type": "markdown",
      "metadata": {
        "id": "view-in-github",
        "colab_type": "text"
      },
      "source": [
        "<a href=\"https://colab.research.google.com/github/Imran-has/Assignment-4-for-sir-Zia-/blob/main/Project_3_Guess_the_Number_Game_Python_Project_(user).ipynb\" target=\"_parent\"><img src=\"https://colab.research.google.com/assets/colab-badge.svg\" alt=\"Open In Colab\"/></a>"
      ]
    },
    {
      "cell_type": "code",
      "execution_count": 1,
      "metadata": {
        "colab": {
          "base_uri": "https://localhost:8080/"
        },
        "id": "oZgbPVh7W8kV",
        "outputId": "e02ad788-d6fe-4851-8370-ee65fe94677a"
      },
      "outputs": [
        {
          "output_type": "stream",
          "name": "stdout",
          "text": [
            "Welcome to the Guess the Number Game!\n",
            "Think of a number between 1 and 100, and I will try to guess it.\n",
            "Provide feedback: 'h' if my guess is too high, 'l' if it's too low, or 'c' if I guessed correctly.\n",
            "\n",
            "My guess is: 50\n",
            "Is my guess too high (h), too low (l), or correct (c)? h\n",
            "My guess is: 25\n",
            "Is my guess too high (h), too low (l), or correct (c)? 5\n",
            "Invalid input. Please enter 'h', 'l', or 'c'.\n",
            "My guess is: 25\n",
            "Is my guess too high (h), too low (l), or correct (c)? 50\n",
            "Invalid input. Please enter 'h', 'l', or 'c'.\n",
            "My guess is: 25\n",
            "Is my guess too high (h), too low (l), or correct (c)? 5\n",
            "Invalid input. Please enter 'h', 'l', or 'c'.\n",
            "My guess is: 25\n",
            "Is my guess too high (h), too low (l), or correct (c)? 8\n",
            "Invalid input. Please enter 'h', 'l', or 'c'.\n",
            "My guess is: 25\n",
            "Is my guess too high (h), too low (l), or correct (c)? 99\n",
            "Invalid input. Please enter 'h', 'l', or 'c'.\n",
            "My guess is: 25\n",
            "Is my guess too high (h), too low (l), or correct (c)? 100\n",
            "Invalid input. Please enter 'h', 'l', or 'c'.\n",
            "My guess is: 25\n",
            "Is my guess too high (h), too low (l), or correct (c)? 44\n",
            "Invalid input. Please enter 'h', 'l', or 'c'.\n",
            "My guess is: 25\n",
            "Is my guess too high (h), too low (l), or correct (c)? 23\n",
            "Invalid input. Please enter 'h', 'l', or 'c'.\n",
            "My guess is: 25\n",
            "Is my guess too high (h), too low (l), or correct (c)? 78\n",
            "Invalid input. Please enter 'h', 'l', or 'c'.\n",
            "My guess is: 25\n",
            "Is my guess too high (h), too low (l), or correct (c)? 45\n",
            "Invalid input. Please enter 'h', 'l', or 'c'.\n",
            "My guess is: 25\n",
            "Is my guess too high (h), too low (l), or correct (c)? 33\n",
            "Invalid input. Please enter 'h', 'l', or 'c'.\n",
            "My guess is: 25\n",
            "Is my guess too high (h), too low (l), or correct (c)? 00\n",
            "Invalid input. Please enter 'h', 'l', or 'c'.\n",
            "My guess is: 25\n",
            "Is my guess too high (h), too low (l), or correct (c)? 34\n",
            "Invalid input. Please enter 'h', 'l', or 'c'.\n",
            "My guess is: 25\n",
            "Is my guess too high (h), too low (l), or correct (c)? 88\n",
            "Invalid input. Please enter 'h', 'l', or 'c'.\n",
            "My guess is: 25\n",
            "Is my guess too high (h), too low (l), or correct (c)? 3\n",
            "Invalid input. Please enter 'h', 'l', or 'c'.\n",
            "My guess is: 25\n",
            "Is my guess too high (h), too low (l), or correct (c)? 100\n",
            "Invalid input. Please enter 'h', 'l', or 'c'.\n",
            "My guess is: 25\n",
            "Is my guess too high (h), too low (l), or correct (c)? h\n",
            "My guess is: 12\n",
            "Is my guess too high (h), too low (l), or correct (c)? c\n",
            "Yay! I guessed your number 12 in 19 attempts!\n"
          ]
        }
      ],
      "source": [
        "def guess_the_number():\n",
        "    print(\"Welcome to the Guess the Number Game!\")\n",
        "    print(\"Think of a number between 1 and 100, and I will try to guess it.\")\n",
        "    print(\"Provide feedback: 'h' if my guess is too high, 'l' if it's too low, or 'c' if I guessed correctly.\\n\")\n",
        "\n",
        "    low = 1\n",
        "    high = 100\n",
        "    attempts = 0\n",
        "\n",
        "    while True:\n",
        "        # Computer makes a guess\n",
        "        guess = (low + high) // 2\n",
        "        attempts += 1\n",
        "        print(f\"My guess is: {guess}\")\n",
        "\n",
        "        # Get feedback from the user\n",
        "        feedback = input(\"Is my guess too high (h), too low (l), or correct (c)? \").lower()\n",
        "\n",
        "        if feedback == 'h':\n",
        "            high = guess - 1  # Adjust the upper bound\n",
        "        elif feedback == 'l':\n",
        "            low = guess + 1  # Adjust the lower bound\n",
        "        elif feedback == 'c':\n",
        "            print(f\"Yay! I guessed your number {guess} in {attempts} attempts!\")\n",
        "            break\n",
        "        else:\n",
        "            print(\"Invalid input. Please enter 'h', 'l', or 'c'.\")\n",
        "\n",
        "if __name__ == \"__main__\":\n",
        "    guess_the_number()"
      ]
    }
  ]
}