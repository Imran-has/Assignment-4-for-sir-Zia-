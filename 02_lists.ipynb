{
  "nbformat": 4,
  "nbformat_minor": 0,
  "metadata": {
    "colab": {
      "provenance": [],
      "authorship_tag": "ABX9TyPKEnqVHcSE0qZEZ3B+nDmM",
      "include_colab_link": true
    },
    "kernelspec": {
      "name": "python3",
      "display_name": "Python 3"
    },
    "language_info": {
      "name": "python"
    }
  },
  "cells": [
    {
      "cell_type": "markdown",
      "metadata": {
        "id": "view-in-github",
        "colab_type": "text"
      },
      "source": [
        "<a href=\"https://colab.research.google.com/github/Imran-has/Assignment-4-for-sir-Zia-/blob/main/02_lists.ipynb\" target=\"_parent\"><img src=\"https://colab.research.google.com/assets/colab-badge.svg\" alt=\"Open In Colab\"/></a>"
      ]
    },
    {
      "cell_type": "code",
      "execution_count": 1,
      "metadata": {
        "colab": {
          "base_uri": "https://localhost:8080/"
        },
        "id": "OwwvEglr07Q1",
        "outputId": "3251349d-f6bd-40b6-c333-648aaf90db17"
      },
      "outputs": [
        {
          "output_type": "stream",
          "name": "stdout",
          "text": [
            "15\n"
          ]
        }
      ],
      "source": [
        "#01_add_many_number\n",
        "def add_many_numbers(numbers)-> int:\n",
        "    \"\"\"\n",
        "    Takes in a list of numbers and returns the sum of those numbers.\n",
        "    \"\"\"\n",
        "\n",
        "    total_so_far: int = 0\n",
        "    for number in numbers:\n",
        "        total_so_far += number\n",
        "\n",
        "    return total_so_far\n",
        "\n",
        "# There is no need to edit code beyond this point\n",
        "\n",
        "def main():\n",
        "    numbers: list[int] = [1, 2, 3, 4, 5]  # Make a list of numbers\n",
        "    sum_of_numbers: int = add_many_numbers(numbers)  # Find the sum of the list\n",
        "    print(sum_of_numbers)  # Print out the sum above\n",
        "\n",
        "\n",
        "if __name__ == '__main__':\n",
        "    main()"
      ]
    },
    {
      "cell_type": "code",
      "source": [
        "#02_lists\n",
        "def main():\n",
        "    numbers: list[int] = [1, 2, 3, 4]  # Creates a list of numbers\n",
        "\n",
        "    for i in range(len(numbers)):  # Loop through the indices of the list\n",
        "        elem_at_index = numbers[i]  # Get the element at index i in the numbers list\n",
        "        numbers[i] = elem_at_index * 2  # Set the element at index i to be equal to the previous element times 2\n",
        "\n",
        "    print(numbers)  # This should print the doubled list\n",
        "\n",
        "\n",
        "# There is no need to edit code beyond this point\n",
        "\n",
        "if __name__ == '__main__':\n",
        "    main()"
      ],
      "metadata": {
        "colab": {
          "base_uri": "https://localhost:8080/"
        },
        "id": "6UTXjeNl2Jsh",
        "outputId": "255e63c1-aa7c-4e14-fc47-6b46a9042c0d"
      },
      "execution_count": 2,
      "outputs": [
        {
          "output_type": "stream",
          "name": "stdout",
          "text": [
            "[2, 4, 6, 8]\n"
          ]
        }
      ]
    }
  ]
}