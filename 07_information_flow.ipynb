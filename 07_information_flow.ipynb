{
  "nbformat": 4,
  "nbformat_minor": 0,
  "metadata": {
    "colab": {
      "provenance": [],
      "authorship_tag": "ABX9TyP/0MGpNMFjLatznEKFRp8s",
      "include_colab_link": true
    },
    "kernelspec": {
      "name": "python3",
      "display_name": "Python 3"
    },
    "language_info": {
      "name": "python"
    }
  },
  "cells": [
    {
      "cell_type": "markdown",
      "metadata": {
        "id": "view-in-github",
        "colab_type": "text"
      },
      "source": [
        "<a href=\"https://colab.research.google.com/github/Imran-has/Assignment-4-for-sir-Zia-/blob/main/07_information_flow.ipynb\" target=\"_parent\"><img src=\"https://colab.research.google.com/assets/colab-badge.svg\" alt=\"Open In Colab\"/></a>"
      ]
    },
    {
      "cell_type": "code",
      "execution_count": null,
      "metadata": {
        "colab": {
          "base_uri": "https://localhost:8080/"
        },
        "id": "O3eGhkSEaAPG",
        "outputId": "95edb224-2c7f-4b58-cb98-975c41648ba3"
      },
      "outputs": [
        {
          "output_type": "stream",
          "name": "stdout",
          "text": [
            "How old is this person?: 15\n",
            "False\n"
          ]
        }
      ],
      "source": [
        "#00_choosing_returns\n",
        "ADULT_AGE : int = 18 # U.S. age\n",
        "\n",
        "def is_adult(age: int):\n",
        "    if age >= ADULT_AGE:\n",
        "        return True\n",
        "\n",
        "    return False\n",
        "\n",
        "########## No need to edit code beyond this point :) ##########\n",
        "\n",
        "def main():\n",
        "    age : str = int(input(\"How old is this person?: \"))\n",
        "    print(is_adult(age))\n",
        "\n",
        "\n",
        "if __name__ == \"__main__\":\n",
        "    main()"
      ]
    },
    {
      "cell_type": "code",
      "source": [
        "#01_greetings\n",
        "def main():\n",
        "    name : str = input(\"What's your name? \")\n",
        "    print(greet(name))\n",
        "\n",
        "# There is no need to edit code beyond this point\n",
        "\n",
        "def greet(name):\n",
        "    return \"Greetings \" + name + \"!\"\n",
        "\n",
        "if __name__ == '__main__':\n",
        "    main()"
      ],
      "metadata": {
        "colab": {
          "base_uri": "https://localhost:8080/"
        },
        "id": "fLA0hGHebA5_",
        "outputId": "2afe41d1-8435-4449-8ca5-7a0c4ee7e926"
      },
      "execution_count": null,
      "outputs": [
        {
          "output_type": "stream",
          "name": "stdout",
          "text": [
            "What's your name? Imran\n",
            "Greetings Imran!\n"
          ]
        }
      ]
    },
    {
      "source": [
        "#02_in_range\n",
        "def in_range(n, low, high):\n",
        "  \"\"\"\n",
        "  Returns True if n is between low and high, inclusive.\n",
        "  high is guaranteed to be greater than low.\n",
        "  \"\"\"\n",
        "  if n >= low and n <= high:\n",
        "    return True\n",
        "\n",
        "    # we could have also included an else statement, but since we are returning, it's fine without!\n",
        "    return False"
      ],
      "cell_type": "code",
      "metadata": {
        "id": "0ujmce5afZKx"
      },
      "execution_count": null,
      "outputs": []
    },
    {
      "cell_type": "code",
      "source": [
        "#03_in_stock\n",
        "def main():\n",
        "    fruit : str = input(\"Enter a fruit: \")\n",
        "    stock = num_in_stock(fruit)\n",
        "    if stock == 0:\n",
        "        print(\"This fruit is not in stock.\")\n",
        "    else:\n",
        "        print(\"This fruit is in stock! Here is how many:\")\n",
        "        print(stock)\n",
        "\n",
        "# There is no need to edit code beyond this point\n",
        "\n",
        "def num_in_stock(fruit):\n",
        "    \"\"\"\n",
        "    This function returns the number of fruit Sophia has in stock.\n",
        "    \"\"\"\n",
        "    if fruit == 'apple':\n",
        "        return 2\n",
        "    if fruit == 'durian':\n",
        "        return 4\n",
        "    if fruit == 'pear':\n",
        "        return 1000\n",
        "    else:\n",
        "        # this fruit is not in stock.\n",
        "        return 0\n",
        "\n",
        "\n",
        "if __name__ == '__main__':\n",
        "    main()"
      ],
      "metadata": {
        "colab": {
          "base_uri": "https://localhost:8080/"
        },
        "id": "lGjVC2MihBdV",
        "outputId": "affb1ba4-7d90-49fd-b9df-34ead987dc20"
      },
      "execution_count": null,
      "outputs": [
        {
          "output_type": "stream",
          "name": "stdout",
          "text": [
            "Enter a fruit: durian\n",
            "This fruit is in stock! Here is how many:\n",
            "4\n"
          ]
        }
      ]
    },
    {
      "cell_type": "code",
      "source": [
        "#04_multiple_returns\n",
        "def get_user_info():\n",
        "    first_name: str = input(\"What is your first name?: \")\n",
        "    last_name: str = input(\"What is your last name?: \")\n",
        "    email_address : str = input(\"What is your email address?: \")\n",
        "\n",
        "    return first_name, last_name, email_address\n",
        "\n",
        "########## No need to edit code past this point :) ##########\n",
        "\n",
        "def main():\n",
        "    user_data = get_user_info()\n",
        "    print(\"Received the following user data:\", user_data)\n",
        "\n",
        "#04_multiple_returns\n",
        "def get_user_info():\n",
        "    first_name: str = input(\"What is your first name?: \")\n",
        "    last_name: str = input(\"What is your last name?: \")\n",
        "    email_address : str = input(\"What is your email address?: \")\n",
        "\n",
        "    return first_name, last_name, email_address\n",
        "\n",
        "########## No need to edit code past this point :) ##########\n",
        "\n",
        "def main():\n",
        "    user_data = get_user_info()\n",
        "    print(\"Received the following user data:\", user_data)\n",
        "\n",
        "if __name__ == \"__main__\":\n",
        "     main()"
      ],
      "metadata": {
        "colab": {
          "base_uri": "https://localhost:8080/"
        },
        "id": "YlriXkiDju_7",
        "outputId": "5e5115e6-9a86-47c9-c617-337271c023ca"
      },
      "execution_count": null,
      "outputs": [
        {
          "output_type": "stream",
          "name": "stdout",
          "text": [
            "What is your first name?: Imran \n",
            "What is your last name?: Hassan\n",
            "What is your email address?: imranhassankhanzada@gmail.com \n",
            "Received the following user data: ('Imran ', 'Hassan', 'imranhassankhanzada@gmail.com ')\n"
          ]
        }
      ]
    },
    {
      "cell_type": "code",
      "source": [
        "#05_subtract_7\n",
        "def main():\n",
        "    num: int = 7\n",
        "    num = subtract_seven(num)\n",
        "    print(\"this should be zero: \", num)\n",
        "\n",
        "def subtract_seven(num):\n",
        "    num = num - 7\n",
        "    return num\n",
        "\n",
        "\n",
        "# There is no need to edit code beyond this point\n",
        "\n",
        "if __name__ == '__main__':\n",
        "    main()"
      ],
      "metadata": {
        "colab": {
          "base_uri": "https://localhost:8080/"
        },
        "id": "Xq_4KQa3kS-r",
        "outputId": "259e382f-3198-49e9-d809-85b5f28a7d38"
      },
      "execution_count": null,
      "outputs": [
        {
          "output_type": "stream",
          "name": "stdout",
          "text": [
            "this should be zero:  0\n"
          ]
        }
      ]
    }
  ]
}