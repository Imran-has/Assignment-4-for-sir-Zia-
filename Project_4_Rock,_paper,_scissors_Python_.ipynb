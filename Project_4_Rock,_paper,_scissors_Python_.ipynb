{
  "nbformat": 4,
  "nbformat_minor": 0,
  "metadata": {
    "colab": {
      "provenance": [],
      "authorship_tag": "ABX9TyNvuZI/eW/C8zkbTR0zwF92",
      "include_colab_link": true
    },
    "kernelspec": {
      "name": "python3",
      "display_name": "Python 3"
    },
    "language_info": {
      "name": "python"
    }
  },
  "cells": [
    {
      "cell_type": "markdown",
      "metadata": {
        "id": "view-in-github",
        "colab_type": "text"
      },
      "source": [
        "<a href=\"https://colab.research.google.com/github/Imran-has/Assignment-4-for-sir-Zia-/blob/main/Project_4_Rock%2C_paper%2C_scissors_Python_.ipynb\" target=\"_parent\"><img src=\"https://colab.research.google.com/assets/colab-badge.svg\" alt=\"Open In Colab\"/></a>"
      ]
    },
    {
      "cell_type": "code",
      "execution_count": 1,
      "metadata": {
        "colab": {
          "base_uri": "https://localhost:8080/"
        },
        "id": "QVbf6ooLy1_a",
        "outputId": "a6a84189-36b3-4b97-f40c-7da4ee809cac"
      },
      "outputs": [
        {
          "output_type": "stream",
          "name": "stdout",
          "text": [
            "Welcome to the Rock, Paper, Scissors Game!\n",
            "Type 'rock', 'paper', or 'scissors' to play. Type 'quit' to exit the game.\n",
            "\n",
            "Your choice: rock\n",
            "Computer chose: rock\n",
            "It's a tie!\n",
            "\n",
            "Your choice: paper\n",
            "Computer chose: paper\n",
            "It's a tie!\n",
            "\n",
            "Your choice: scissors\n",
            "Computer chose: scissors\n",
            "It's a tie!\n",
            "\n",
            "Your choice: quit\n",
            "Thanks for playing! Goodbye!\n"
          ]
        }
      ],
      "source": [
        "import random\n",
        "\n",
        "def rock_paper_scissors():\n",
        "    print(\"Welcome to the Rock, Paper, Scissors Game!\")\n",
        "    print(\"Type 'rock', 'paper', or 'scissors' to play. Type 'quit' to exit the game.\\n\")\n",
        "\n",
        "    choices = [\"rock\", \"paper\", \"scissors\"]\n",
        "\n",
        "    while True:\n",
        "        # Get the user's choice\n",
        "        user_choice = input(\"Your choice: \").lower()\n",
        "\n",
        "        # Allow the user to quit the game\n",
        "        if user_choice == \"quit\":\n",
        "            print(\"Thanks for playing! Goodbye!\")\n",
        "            break\n",
        "\n",
        "        # Validate the user's input\n",
        "        if user_choice not in choices:\n",
        "            print(\"Invalid choice. Please choose 'rock', 'paper', or 'scissors'.\")\n",
        "            continue\n",
        "\n",
        "        # Computer makes a random choice\n",
        "        computer_choice = random.choice(choices)\n",
        "        print(f\"Computer chose: {computer_choice}\")\n",
        "\n",
        "        # Determine the winner\n",
        "        if user_choice == computer_choice:\n",
        "            print(\"It's a tie!\")\n",
        "        elif (user_choice == \"rock\" and computer_choice == \"scissors\") or \\\n",
        "             (user_choice == \"paper\" and computer_choice == \"rock\") or \\\n",
        "             (user_choice == \"scissors\" and computer_choice == \"paper\"):\n",
        "            print(\"You win!\")\n",
        "        else:\n",
        "            print(\"You lose!\")\n",
        "\n",
        "        print()  # Print a blank line for better readability\n",
        "\n",
        "if __name__ == \"__main__\":\n",
        "    rock_paper_scissors()"
      ]
    }
  ]
}