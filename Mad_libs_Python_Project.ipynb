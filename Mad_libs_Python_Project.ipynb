{
  "nbformat": 4,
  "nbformat_minor": 0,
  "metadata": {
    "colab": {
      "provenance": [],
      "authorship_tag": "ABX9TyMH+tPbzzNp/bjvWj7bgDv/",
      "include_colab_link": true
    },
    "kernelspec": {
      "name": "python3",
      "display_name": "Python 3"
    },
    "language_info": {
      "name": "python"
    }
  },
  "cells": [
    {
      "cell_type": "markdown",
      "metadata": {
        "id": "view-in-github",
        "colab_type": "text"
      },
      "source": [
        "<a href=\"https://colab.research.google.com/github/Imran-has/Assignment-4-for-sir-Zia-/blob/main/Mad_libs_Python_Project.ipynb\" target=\"_parent\"><img src=\"https://colab.research.google.com/assets/colab-badge.svg\" alt=\"Open In Colab\"/></a>"
      ]
    },
    {
      "cell_type": "code",
      "execution_count": 2,
      "metadata": {
        "colab": {
          "base_uri": "https://localhost:8080/"
        },
        "id": "q2QGwDjXSKhD",
        "outputId": "827bf8c4-3e91-4677-f0b3-dbc3216eefae"
      },
      "outputs": [
        {
          "output_type": "stream",
          "name": "stdout",
          "text": [
            "Welcome to the Mad Libs game!\n",
            "Fill in the blanks to complete the story.\n",
            "\n",
            "Enter an adjective: beautiful\n",
            "Enter a noun: imran \n",
            "Enter a verb: work\n",
            "Enter a place: karachi\n",
            "\n",
            "Here is your Mad Libs story:\n",
            "\n",
            "    Once upon a time, in a beautiful land, there was a imran .\n",
            "    Every day, it would work happily in the karachi.\n",
            "    One day, something extraordinary happened, and the imran  became a legend!\n",
            "    \n"
          ]
        }
      ],
      "source": [
        "def mad_libs():\n",
        "    print(\"Welcome to the Mad Libs game!\")\n",
        "    print(\"Fill in the blanks to complete the story.\\n\")\n",
        "\n",
        "    # Prompt the user for inputs\n",
        "    adjective = input(\"Enter an adjective: \")\n",
        "    noun = input(\"Enter a noun: \")\n",
        "    verb = input(\"Enter a verb: \")\n",
        "    place = input(\"Enter a place: \")\n",
        "\n",
        "    # Story template\n",
        "    story = f\"\"\"\n",
        "    Once upon a time, in a {adjective} land, there was a {noun}.\n",
        "    Every day, it would {verb} happily in the {place}.\n",
        "    One day, something extraordinary happened, and the {noun} became a legend!\n",
        "    \"\"\"\n",
        "\n",
        "    # Print the completed story\n",
        "    print(\"\\nHere is your Mad Libs story:\")\n",
        "    print(story)\n",
        "\n",
        "if __name__ == \"__main__\":\n",
        "    mad_libs()"
      ]
    },
    {
      "cell_type": "code",
      "source": [],
      "metadata": {
        "id": "1R8mhwWTTIXF"
      },
      "execution_count": null,
      "outputs": []
    }
  ]
}