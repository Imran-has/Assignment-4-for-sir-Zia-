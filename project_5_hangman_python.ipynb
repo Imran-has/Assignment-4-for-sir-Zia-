{
  "nbformat": 4,
  "nbformat_minor": 0,
  "metadata": {
    "colab": {
      "provenance": [],
      "authorship_tag": "ABX9TyPQk0WmdX8AvTaXhHsduuQS",
      "include_colab_link": true
    },
    "kernelspec": {
      "name": "python3",
      "display_name": "Python 3"
    },
    "language_info": {
      "name": "python"
    }
  },
  "cells": [
    {
      "cell_type": "markdown",
      "metadata": {
        "id": "view-in-github",
        "colab_type": "text"
      },
      "source": [
        "<a href=\"https://colab.research.google.com/github/Imran-has/Assignment-4-for-sir-Zia-/blob/main/project_5_hangman_python.ipynb\" target=\"_parent\"><img src=\"https://colab.research.google.com/assets/colab-badge.svg\" alt=\"Open In Colab\"/></a>"
      ]
    },
    {
      "cell_type": "code",
      "execution_count": null,
      "metadata": {
        "colab": {
          "base_uri": "https://localhost:8080/"
        },
        "id": "meJi3Xt-2DSQ",
        "outputId": "ac7f6e5a-3288-4920-b0ff-9beb2904b786"
      },
      "outputs": [
        {
          "metadata": {
            "tags": null
          },
          "name": "stdout",
          "output_type": "stream",
          "text": [
            "Welcome to the Hangman Game!\n",
            "Try to guess the word one letter at a time.\n",
            "\n",
            "Word to guess: _ _ _ _ _ _ _ _ _\n",
            "Attempts remaining: 6\n",
            "Guessed letters: \n",
            "\n",
            "Invalid input. Please enter a single letter.\n",
            "\n",
            "Word to guess: _ _ _ _ _ _ _ _ _\n",
            "Attempts remaining: 6\n",
            "Guessed letters: \n",
            "\n",
            "Invalid input. Please enter a single letter.\n",
            "\n",
            "Word to guess: _ _ _ _ _ _ _ _ _\n",
            "Attempts remaining: 6\n",
            "Guessed letters: \n",
            "\n",
            "Sorry, 'd' is not in the word.\n",
            "\n",
            "Word to guess: _ _ _ _ _ _ _ _ _\n",
            "Attempts remaining: 5\n",
            "Guessed letters: d\n",
            "\n"
          ]
        }
      ],
      "source": [
        "import random\n",
        "\n",
        "def hangman():\n",
        "    print(\"Welcome to the Hangman Game!\")\n",
        "    print(\"Try to guess the word one letter at a time.\\n\")\n",
        "\n",
        "    # List of words to choose from\n",
        "    words = [\"python\", \"hangman\", \"programming\", \"developer\", \"algorithm\"]\n",
        "    word_to_guess = random.choice(words)\n",
        "    guessed_word = [\"_\"] * len(word_to_guess)  # Display underscores for the word\n",
        "    attempts = 6  # Number of incorrect guesses allowed\n",
        "    guessed_letters = set()  # Keep track of guessed letters\n",
        "\n",
        "    while attempts > 0 and \"_\" in guessed_word:\n",
        "        print(f\"Word to guess: {' '.join(guessed_word)}\")\n",
        "        print(f\"Attempts remaining: {attempts}\")\n",
        "        print(f\"Guessed letters: {', '.join(sorted(guessed_letters))}\\n\")\n",
        "\n",
        "        # Get the user's guess\n",
        "        guess = input(\"Enter a letter: \").lower()\n",
        "\n",
        "        # Validate input\n",
        "        if len(guess) != 1 or not guess.isalpha():\n",
        "            print(\"Invalid input. Please enter a single letter.\\n\")\n",
        "            continue\n",
        "\n",
        "        if guess in guessed_letters:\n",
        "            print(\"You already guessed that letter. Try again.\\n\")\n",
        "            continue\n",
        "\n",
        "        guessed_letters.add(guess)\n",
        "\n",
        "        # Check if the guess is in the word\n",
        "        if guess in word_to_guess:\n",
        "            print(f\"Good job! '{guess}' is in the word.\\n\")\n",
        "            for i, letter in enumerate(word_to_guess):\n",
        "                if letter == guess:\n",
        "                    guessed_word[i] = guess\n",
        "        else:\n",
        "            print(f\"Sorry, '{guess}' is not in the word.\\n\")\n",
        "            attempts -= 1\n",
        "\n",
        "    # Check if the user won or lost\n",
        "    if \"_\" not in guessed_word:\n",
        "        print(f\"Congratulations! You guessed the word: {''.join(guessed_word)}\")\n",
        "    else:\n",
        "        print(f\"Game over! The word was: {word_to_guess}\")\n",
        "\n",
        "if __name__ == \"__main__\":\n",
        "    hangman()"
      ]
    }
  ]
}